{
 "cells": [
  {
   "cell_type": "markdown",
   "metadata": {},
   "source": [
    "# Hill Cypher Encryption\n",
    "---\n",
    "\n",
    "In this example, we'll be using a linear transformation (and its inverse) to encode and decode a string of lowercase characters."
   ]
  },
  {
   "cell_type": "code",
   "execution_count": 22,
   "metadata": {
    "collapsed": false
   },
   "outputs": [],
   "source": [
    "# importing numpy for linear algebra operations, scipy for sparse matrices\n",
    "import numpy as np\n",
    "from scipy.sparse import coo_matrix"
   ]
  },
  {
   "cell_type": "markdown",
   "metadata": {},
   "source": [
    "## Integer representation of the message string\n",
    "---\n",
    "Our goal here will be to take the string \"ibotta\" and encrypt it via a linear transformation. To do this, we'll first map each character in the lowercase string to the integer range [0, 25] (where a = 0, b = 1, ..., z = 25). Here is the result of that mapping:\n",
    "\n",
    "```\n",
    "i -> 8\n",
    "b -> 1\n",
    "o -> 14\n",
    "t -> 19\n",
    "t -> 19\n",
    "a -> 0\n",
    "```\n",
    "\n",
    "We'll use these values to populate an integer vector representation of the string. I'm going to initialize a (6,1) numpy matrix to do this. Note the transpose ('T') used to convert the default interpretation of a *row* vector/matrix to the *column* format we want."
   ]
  },
  {
   "cell_type": "code",
   "execution_count": 20,
   "metadata": {
    "collapsed": false
   },
   "outputs": [
    {
     "name": "stdout",
     "output_type": "stream",
     "text": [
      "[[ 8]\n",
      " [ 1]\n",
      " [14]\n",
      " [19]\n",
      " [19]\n",
      " [ 0]]\n"
     ]
    }
   ],
   "source": [
    "messageIntVec = np.matrix([8, 1, 14, 19, 19, 0]).T\n",
    "print(messageIntVec)"
   ]
  },
  {
   "cell_type": "markdown",
   "metadata": {},
   "source": [
    "## Forward transformation (encryption) - altering *one* letter\n",
    "---\n",
    "There are more general ways of constructing Hill cyphers/transformations than what we'll explore today (and you can read more at https://en.wikipedia.org/wiki/Hill_cipher). For our illustration, though, we'll use a simple composition that'll allow us to easily determine a forward (encryption) and inverse (decryption) transformation.\n",
    "\n",
    "Let's say we want to use the secret key 'mykey' to encrypt the information. Here's one way we can do that.\n",
    "\n",
    "First, as we did with the 'ibotta' string, let's transform the 'mykey' string into an integer array representation.\n",
    "\n",
    "```\n",
    "m -> 12\n",
    "y -> 24\n",
    "k -> 10\n",
    "e -> 4\n",
    "y -> 24\n",
    "```\n",
    "\n",
    "I'm actually going to keep these values as a *row* vector because of how they'll be subsequently used."
   ]
  },
  {
   "cell_type": "code",
   "execution_count": 24,
   "metadata": {
    "collapsed": true
   },
   "outputs": [],
   "source": [
    "keyIntArray = np.array([12, 24, 10, 4, 24])"
   ]
  },
  {
   "cell_type": "markdown",
   "metadata": {},
   "source": [
    "We'll use these values to start transforming the letters of our 'ibotta' message, one by one. Below is the construction (using sparse matrix logic as a 'helper') of a matrix operator that only transforms the *last* element in our 'ibotta' integer vector."
   ]
  },
  {
   "cell_type": "code",
   "execution_count": 34,
   "metadata": {
    "collapsed": false
   },
   "outputs": [
    {
     "name": "stdout",
     "output_type": "stream",
     "text": [
      "[[ 1.  0.  0.  0.  0.  0.]\n",
      " [ 0.  1.  0.  0.  0.  0.]\n",
      " [ 0.  0.  1.  0.  0.  0.]\n",
      " [ 0.  0.  0.  1.  0.  0.]\n",
      " [ 0.  0.  0.  0.  1.  0.]\n",
      " [12. 24. 10.  4. 24.  1.]]\n"
     ]
    }
   ],
   "source": [
    "row    = np.array([5, 5, 5, 5, 5])\n",
    "col    = np.array([0, 1, 2, 3, 4])\n",
    "values = keyIntArray\n",
    "\n",
    "firstTransformation = coo_matrix((values, (row, col)), shape = (6, 6)).toarray() + np.identity(6)\n",
    "print(firstTransformation)"
   ]
  },
  {
   "cell_type": "markdown",
   "metadata": {},
   "source": [
    "From what we know about matrix-vector multiplication, the action of this matrix on our message integer vector results in the first five elements being left alone, with the sixth (representing the letter 'a' in 'ibotta') being replaced by its integer representation (0 in the case of 'a') *plus a linear combination of the other integers in the vector*."
   ]
  },
  {
   "cell_type": "code",
   "execution_count": 35,
   "metadata": {
    "collapsed": false
   },
   "outputs": [
    {
     "name": "stdout",
     "output_type": "stream",
     "text": [
      "[[  8.]\n",
      " [  1.]\n",
      " [ 14.]\n",
      " [ 19.]\n",
      " [ 19.]\n",
      " [792.]]\n"
     ]
    }
   ],
   "source": [
    "print(firstTransformation*messageIntVec)"
   ]
  },
  {
   "cell_type": "markdown",
   "metadata": {},
   "source": [
    "The nice thing about our application of linear algebra is that we're interested in transformations between integers *modulo 26*. When reflecting upon how the rest of our mathematics is going to work (have faith for the moment! :) ) we're okay recording results modulo 26 after each operation if we like, e.g.:"
   ]
  },
  {
   "cell_type": "code",
   "execution_count": 38,
   "metadata": {
    "collapsed": false
   },
   "outputs": [
    {
     "name": "stdout",
     "output_type": "stream",
     "text": [
      "[[ 8.]\n",
      " [ 1.]\n",
      " [14.]\n",
      " [19.]\n",
      " [19.]\n",
      " [12.]]\n"
     ]
    }
   ],
   "source": [
    "messageIntVec2 = firstTransformation*messageIntVec % 26\n",
    "print(messageIntVec2)"
   ]
  },
  {
   "cell_type": "markdown",
   "metadata": {},
   "source": [
    "Taking results modulo 26 also allows us to interpret this result with a transformed *string* representation:\n",
    "\n",
    "```\n",
    " 8 -> i\n",
    " 1 -> b\n",
    "14 -> o\n",
    "19 -> t\n",
    "19 -> t\n",
    "12 -> m\n",
    "```\n",
    "\n",
    "So now our string representation reads 'ibottm'. We can continue similarly - from this result - to encode each of the other letters of our message in turn."
   ]
  },
  {
   "cell_type": "markdown",
   "metadata": {},
   "source": [
    "## Forward transformation - encoding *all* letters\n",
    "---\n",
    "What we'll do now is generalize the pattern we used to construct the first transformation of our message's integer representation in such a way that we can transform *all* the letters of the message.\n",
    "\n",
    "As we proceed, we'll see how we can multiply individual transformation matrices together into a *single* encryption matrix that transforms all the letters at once (and is equivalent to transforming each individual integer representation in succession)."
   ]
  },
  {
   "cell_type": "code",
   "execution_count": null,
   "metadata": {
    "collapsed": true
   },
   "outputs": [],
   "source": []
  }
 ],
 "metadata": {
  "kernelspec": {
   "display_name": "Python 3",
   "language": "python",
   "name": "python3"
  },
  "language_info": {
   "codemirror_mode": {
    "name": "ipython",
    "version": 3
   },
   "file_extension": ".py",
   "mimetype": "text/x-python",
   "name": "python",
   "nbconvert_exporter": "python",
   "pygments_lexer": "ipython3",
   "version": "3.5.2"
  }
 },
 "nbformat": 4,
 "nbformat_minor": 2
}
