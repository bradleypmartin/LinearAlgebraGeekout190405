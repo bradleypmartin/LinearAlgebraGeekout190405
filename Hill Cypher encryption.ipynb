{
 "cells": [
  {
   "cell_type": "markdown",
   "metadata": {},
   "source": [
    "# Hill Cypher Encryption\n",
    "---\n",
    "\n",
    "In this example, we'll be using a linear transformation (and its inverse) to encode and decode a string of lowercase characters."
   ]
  },
  {
   "cell_type": "code",
   "execution_count": 18,
   "metadata": {
    "collapsed": false
   },
   "outputs": [],
   "source": [
    "# importing numpy for linear algebra operations\n",
    "import numpy as np"
   ]
  },
  {
   "cell_type": "markdown",
   "metadata": {},
   "source": [
    "## Problem setup 1: (integer representation of the message string)\n",
    "---\n",
    "Our goal here will be to take the string \"ibotta\" and encrypt it via a linear transformation. To do this, we'll first map each character in the lowercase string to the integer range [0, 25] (where a = 0, b = 1, ..., z = 25). Here is the result of that mapping:\n",
    "\n",
    "```\n",
    "i -> 8\n",
    "b -> 1\n",
    "o -> 14\n",
    "t -> 19\n",
    "t -> 19\n",
    "a -> 0\n",
    "```\n",
    "\n",
    "We'll use these values to populate an integer vector representation of the string. I'm going to initialize a (6,1) numpy matrix to do this. Note the transpose ('T') used to convert the default interpretation of a *row* vector/matrix to the *column* format we want."
   ]
  },
  {
   "cell_type": "code",
   "execution_count": 16,
   "metadata": {
    "collapsed": false
   },
   "outputs": [],
   "source": [
    "messageIntVec = np.matrix([8, 1, 14, 19, 19, 0]).T"
   ]
  },
  {
   "cell_type": "code",
   "execution_count": 17,
   "metadata": {
    "collapsed": false
   },
   "outputs": [
    {
     "name": "stdout",
     "output_type": "stream",
     "text": [
      "[[ 8]\n",
      " [ 1]\n",
      " [14]\n",
      " [19]\n",
      " [19]\n",
      " [ 0]]\n"
     ]
    }
   ],
   "source": [
    "print(messageIntVec)"
   ]
  },
  {
   "cell_type": "markdown",
   "metadata": {},
   "source": [
    "## Problem setup 2: (transformation and inverse)\n",
    "---\n",
    "There are more general ways of constructing Hill cyphers/transformations than what we'll explore today (and you can read more at https://en.wikipedia.org/wiki/Hill_cipher). For our illustration, though, we'll use a simple composition that'll allow us to easily determine a forward (encryption) and inverse (decryption) transformation.\n",
    "\n",
    "Let's say we want to use the secret key 'mykey' to encrypt the information. Here's one way we can do that.\n",
    "\n",
    "First, as we did with the 'ibotta' string, let's transform the 'mykey' string into an integer array representation.\n",
    "\n",
    "```\n",
    "m -> 12\n",
    "y -> 24\n",
    "k -> 10\n",
    "e -> 4\n",
    "y -> 24\n",
    "```\n",
    "\n",
    "I'm actually going to keep these values as a *row* vector because of how they'll be subsequently used."
   ]
  },
  {
   "cell_type": "code",
   "execution_count": null,
   "metadata": {
    "collapsed": true
   },
   "outputs": [],
   "source": []
  },
  {
   "cell_type": "code",
   "execution_count": null,
   "metadata": {
    "collapsed": true
   },
   "outputs": [],
   "source": []
  },
  {
   "cell_type": "code",
   "execution_count": null,
   "metadata": {
    "collapsed": true
   },
   "outputs": [],
   "source": []
  },
  {
   "cell_type": "code",
   "execution_count": null,
   "metadata": {
    "collapsed": true
   },
   "outputs": [],
   "source": []
  },
  {
   "cell_type": "code",
   "execution_count": null,
   "metadata": {
    "collapsed": true
   },
   "outputs": [],
   "source": []
  },
  {
   "cell_type": "code",
   "execution_count": null,
   "metadata": {
    "collapsed": true
   },
   "outputs": [],
   "source": []
  },
  {
   "cell_type": "code",
   "execution_count": null,
   "metadata": {
    "collapsed": true
   },
   "outputs": [],
   "source": [
    "A = np.matrix([[5, 1, 3],\n",
    "             [1, 1, 1],\n",
    "             [1, 2, 1]])\n",
    "\n",
    "x = np.matrix([1,1,1]).T\n",
    "\n",
    "A*x"
   ]
  }
 ],
 "metadata": {
  "kernelspec": {
   "display_name": "Python 3",
   "language": "python",
   "name": "python3"
  },
  "language_info": {
   "codemirror_mode": {
    "name": "ipython",
    "version": 3
   },
   "file_extension": ".py",
   "mimetype": "text/x-python",
   "name": "python",
   "nbconvert_exporter": "python",
   "pygments_lexer": "ipython3",
   "version": "3.5.2"
  }
 },
 "nbformat": 4,
 "nbformat_minor": 2
}
