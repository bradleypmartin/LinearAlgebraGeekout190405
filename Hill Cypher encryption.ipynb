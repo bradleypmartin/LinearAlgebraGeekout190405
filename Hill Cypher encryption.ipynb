{
 "cells": [
  {
   "cell_type": "markdown",
   "metadata": {
    "deletable": true,
    "editable": true
   },
   "source": [
    "# Hill Cypher Encryption\n",
    "---\n",
    "\n",
    "In this example, we'll be using a linear transformation (and its inverse) to encode and decode a string of lowercase characters. This logic is currently part of how the Amazon Launch Service encrypts/encodes source tokens when an Ibotta Saver starts up an Amazon shopping session!\n",
    "\n",
    "If you're new to `.ipynb` notebooks, make sure to run *all* cells here to make sure you have all the imports/tools you need available."
   ]
  },
  {
   "cell_type": "code",
   "execution_count": 1,
   "metadata": {
    "collapsed": false,
    "deletable": true,
    "editable": true
   },
   "outputs": [],
   "source": [
    "# importing numpy for linear algebra operations, scipy for sparse matrices\n",
    "import numpy as np\n",
    "from scipy.sparse import coo_matrix"
   ]
  },
  {
   "cell_type": "markdown",
   "metadata": {
    "deletable": true,
    "editable": true
   },
   "source": [
    "## Contents\n",
    "---\n",
    "[1 Integer representation](#1-Integer-representation)  \n",
    "[2 Encoding one letter](#2-Encoding-one-letter)  \n",
    "[3 Encoding all letters](#3-Encoding-all-letters)  \n",
    "[4 Encoding all letters simultaneously](#4-Encoding-all-letters-simultaneously)  \n",
    "[5 Decoding one letter](#5-Decoding-one-letter)  \n",
    "[6 Decoding all the letters](#6-Decoding-all-the-letters)  "
   ]
  },
  {
   "cell_type": "markdown",
   "metadata": {
    "deletable": true,
    "editable": true
   },
   "source": [
    "## 1 Integer representation\n",
    "---\n",
    "Our goal here will be to take the string \"ibotta\" and encrypt it via a linear transformation. To do this, we'll first map each character in the lowercase string to the integer range [0, 25] (where a = 0, b = 1, ..., z = 25). Here is the result of that mapping:\n",
    "\n",
    "```\n",
    "i -> 8\n",
    "b -> 1\n",
    "o -> 14\n",
    "t -> 19\n",
    "t -> 19\n",
    "a -> 0\n",
    "```\n",
    "\n",
    "We'll use these values to populate an integer vector representation of the string. I'm going to initialize a (6,1) numpy matrix to do this. Note the transpose ('T') used to convert the default interpretation of a *row* vector/matrix to the *column* format we want."
   ]
  },
  {
   "cell_type": "code",
   "execution_count": 2,
   "metadata": {
    "collapsed": false,
    "deletable": true,
    "editable": true
   },
   "outputs": [
    {
     "name": "stdout",
     "output_type": "stream",
     "text": [
      "[[ 8]\n",
      " [ 1]\n",
      " [14]\n",
      " [19]\n",
      " [19]\n",
      " [ 0]]\n"
     ]
    }
   ],
   "source": [
    "messageIntVec0 = np.matrix([8, 1, 14, 19, 19, 0]).T\n",
    "print(messageIntVec0)"
   ]
  },
  {
   "cell_type": "markdown",
   "metadata": {
    "deletable": true,
    "editable": true
   },
   "source": [
    "[Back to top](#Hill-Cypher-Encryption)"
   ]
  },
  {
   "cell_type": "markdown",
   "metadata": {
    "deletable": true,
    "editable": true
   },
   "source": [
    "## 2 Encoding one letter\n",
    "---\n",
    "There are more general ways of constructing Hill cyphers/transformations than what we'll explore today (and you can read more at https://en.wikipedia.org/wiki/Hill_cipher). For our illustration, though, we'll use a simple composition that'll allow us to easily determine a forward (encryption) and inverse (decryption) transformation.\n",
    "\n",
    "Let's say we want to use the secret key 'mykey' to encrypt the information. Here's one way we can do that.\n",
    "\n",
    "First, as we did with the 'ibotta' string, let's transform the 'mykey' string into an integer array representation.\n",
    "\n",
    "```\n",
    "m -> 12\n",
    "y -> 24\n",
    "k -> 10\n",
    "e -> 4\n",
    "y -> 24\n",
    "```\n",
    "\n",
    "I'm actually going to keep these values as a *row* vector because of how they'll be subsequently used."
   ]
  },
  {
   "cell_type": "code",
   "execution_count": 3,
   "metadata": {
    "collapsed": true,
    "deletable": true,
    "editable": true
   },
   "outputs": [],
   "source": [
    "keyIntArray = np.array([12, 24, 10, 4, 24])"
   ]
  },
  {
   "cell_type": "markdown",
   "metadata": {
    "deletable": true,
    "editable": true
   },
   "source": [
    "We'll use these values to start transforming the letters of our 'ibotta' message, one by one. Below is the construction (using sparse matrix logic as a 'helper') of a matrix operator that only transforms the *last* element in our 'ibotta' integer vector."
   ]
  },
  {
   "cell_type": "code",
   "execution_count": 4,
   "metadata": {
    "collapsed": false,
    "deletable": true,
    "editable": true
   },
   "outputs": [
    {
     "name": "stdout",
     "output_type": "stream",
     "text": [
      "[[  1.   0.   0.   0.   0.   0.]\n",
      " [  0.   1.   0.   0.   0.   0.]\n",
      " [  0.   0.   1.   0.   0.   0.]\n",
      " [  0.   0.   0.   1.   0.   0.]\n",
      " [  0.   0.   0.   0.   1.   0.]\n",
      " [ 12.  24.  10.   4.  24.   1.]]\n"
     ]
    }
   ],
   "source": [
    "row    = np.array([5, 5, 5, 5, 5])\n",
    "col    = np.array([0, 1, 2, 3, 4])\n",
    "values = keyIntArray\n",
    "\n",
    "firstTransformation = coo_matrix((values, (row, col)), shape = (6, 6)).toarray() + np.identity(6)\n",
    "print(firstTransformation)"
   ]
  },
  {
   "cell_type": "markdown",
   "metadata": {
    "deletable": true,
    "editable": true
   },
   "source": [
    "From what we know about matrix-vector multiplication, the action of this matrix on our message integer vector results in the first five elements being left alone, with the sixth (representing the letter 'a' in 'ibotta') being replaced by its integer representation (0 in the case of 'a') *plus a linear combination of the other integers in the vector*."
   ]
  },
  {
   "cell_type": "code",
   "execution_count": 5,
   "metadata": {
    "collapsed": false,
    "deletable": true,
    "editable": true
   },
   "outputs": [
    {
     "name": "stdout",
     "output_type": "stream",
     "text": [
      "[[   8.]\n",
      " [   1.]\n",
      " [  14.]\n",
      " [  19.]\n",
      " [  19.]\n",
      " [ 792.]]\n"
     ]
    }
   ],
   "source": [
    "print(firstTransformation*messageIntVec0)"
   ]
  },
  {
   "cell_type": "markdown",
   "metadata": {
    "deletable": true,
    "editable": true
   },
   "source": [
    "The nice thing about our application of linear algebra is that we're interested in transformations between integers *modulo 26*. When reflecting upon how the rest of our mathematics is going to work (have faith for the moment! :) ) we're okay recording results modulo 26 after each operation if we like, e.g.:"
   ]
  },
  {
   "cell_type": "code",
   "execution_count": 6,
   "metadata": {
    "collapsed": false,
    "deletable": true,
    "editable": true
   },
   "outputs": [
    {
     "name": "stdout",
     "output_type": "stream",
     "text": [
      "[[  8.]\n",
      " [  1.]\n",
      " [ 14.]\n",
      " [ 19.]\n",
      " [ 19.]\n",
      " [ 12.]]\n"
     ]
    }
   ],
   "source": [
    "messageIntVec1 = firstTransformation*messageIntVec0 % 26\n",
    "print(messageIntVec1)"
   ]
  },
  {
   "cell_type": "markdown",
   "metadata": {
    "deletable": true,
    "editable": true
   },
   "source": [
    "Taking results modulo 26 also allows us to interpret this result with a transformed *string* representation:\n",
    "\n",
    "```\n",
    " 8 -> i\n",
    " 1 -> b\n",
    "14 -> o\n",
    "19 -> t\n",
    "19 -> t\n",
    "12 -> m\n",
    "```\n",
    "\n",
    "So now our string representation reads 'ibottm'. We can continue similarly - from this result - to encode each of the other letters of our message in turn."
   ]
  },
  {
   "cell_type": "markdown",
   "metadata": {
    "deletable": true,
    "editable": true
   },
   "source": [
    "[Back to top](#Hill-Cypher-Encryption)"
   ]
  },
  {
   "cell_type": "markdown",
   "metadata": {
    "deletable": true,
    "editable": true
   },
   "source": [
    "## 3 Encoding all letters\n",
    "---\n",
    "What we'll do now is generalize the pattern we used to construct the first transformation of our message's integer representation in such a way that we can transform *all* the letters of the message.\n",
    "\n",
    "As we proceed, we'll see how we can multiply individual transformation matrices together into a *single* encryption matrix that transforms all the letters at once (and is equivalent to transforming each individual integer representation in succession).\n",
    "\n",
    "For our second transformation, we'll encode the fifth character of our six letter string, using a 'rotation' of the transformation we employed first on the *final* character of the string."
   ]
  },
  {
   "cell_type": "code",
   "execution_count": 7,
   "metadata": {
    "collapsed": false,
    "deletable": true,
    "editable": true
   },
   "outputs": [
    {
     "name": "stdout",
     "output_type": "stream",
     "text": [
      "[[  1.   0.   0.   0.   0.   0.]\n",
      " [  0.   1.   0.   0.   0.   0.]\n",
      " [  0.   0.   1.   0.   0.   0.]\n",
      " [  0.   0.   0.   1.   0.   0.]\n",
      " [ 24.  10.   4.  24.   1.  12.]\n",
      " [  0.   0.   0.   0.   0.   1.]]\n"
     ]
    }
   ],
   "source": [
    "row    = np.array([4, 4, 4, 4, 4])\n",
    "col    = np.array([5, 0, 1, 2, 3])\n",
    "values = keyIntArray\n",
    "\n",
    "secondTransformation = coo_matrix((values, (row, col)), shape = (6, 6)).toarray() + np.identity(6)\n",
    "print(secondTransformation)"
   ]
  },
  {
   "cell_type": "markdown",
   "metadata": {
    "deletable": true,
    "editable": true
   },
   "source": [
    "*This* transformation is expressing the *fifth* 'letter-equivalent-integer' as its current entry *plus* a linear combination of the other entries currently in the string (importantly, we note that we're using this on the string that's already been acted upon by the first transformation)."
   ]
  },
  {
   "cell_type": "code",
   "execution_count": 8,
   "metadata": {
    "collapsed": false,
    "deletable": true,
    "editable": true
   },
   "outputs": [
    {
     "name": "stdout",
     "output_type": "stream",
     "text": [
      "[[  8.]\n",
      " [  1.]\n",
      " [ 14.]\n",
      " [ 19.]\n",
      " [ 19.]\n",
      " [ 12.]]\n"
     ]
    }
   ],
   "source": [
    "messageIntVec2 = secondTransformation*messageIntVec1 % 26\n",
    "print(messageIntVec2)"
   ]
  },
  {
   "cell_type": "markdown",
   "metadata": {
    "deletable": true,
    "editable": true
   },
   "source": [
    "Welp, even though there's been a transformation of the 5th character, it's hard to tell; during this transformation the fifth character was replaced by:\n",
    "\n",
    "```\n",
    "character 5 = (24*8 + 10*1 + 4*14 + 24*19 + 1*19 + 12*12) % 26 = 19\n",
    "```\n",
    "...so just by chance, we've got another 't' in the fifth position.\n",
    "\n",
    "Now, I'm going to speed things up a bit and carry out a similar process for the fourth, third, second, and first character in our string (in that order). [*Note: there're certainly more efficient, less hardcoded ways to code this, but since we're dealing with a small array size and introducing a new topic, I'll keep things very expanded and explicit.*]"
   ]
  },
  {
   "cell_type": "code",
   "execution_count": 9,
   "metadata": {
    "collapsed": false,
    "deletable": true,
    "editable": true
   },
   "outputs": [
    {
     "name": "stdout",
     "output_type": "stream",
     "text": [
      "[[ 10.]\n",
      " [ 13.]\n",
      " [ 16.]\n",
      " [ 19.]\n",
      " [ 19.]\n",
      " [ 12.]]\n"
     ]
    }
   ],
   "source": [
    "row    = np.array([3, 3, 3, 3, 3])\n",
    "col    = np.array([4, 5, 0, 1, 2])\n",
    "values = keyIntArray\n",
    "\n",
    "thirdTransformation = coo_matrix((values, (row, col)), shape = (6, 6)).toarray() + np.identity(6)\n",
    "\n",
    "row    = np.array([2, 2, 2, 2, 2])\n",
    "col    = np.array([3, 4, 5, 0, 1])\n",
    "values = keyIntArray\n",
    "\n",
    "fourthTransformation = coo_matrix((values, (row, col)), shape = (6, 6)).toarray() + np.identity(6)\n",
    "\n",
    "row    = np.array([1, 1, 1, 1, 1])\n",
    "col    = np.array([2, 3, 4, 5, 0])\n",
    "values = keyIntArray\n",
    "\n",
    "fifthTransformation = coo_matrix((values, (row, col)), shape = (6, 6)).toarray() + np.identity(6)\n",
    "\n",
    "row    = np.array([0, 0, 0, 0, 0])\n",
    "col    = np.array([1, 2, 3, 4, 5])\n",
    "values = keyIntArray\n",
    "\n",
    "sixthTransformation = coo_matrix((values, (row, col)), shape = (6, 6)).toarray() + np.identity(6)\n",
    "\n",
    "encodedIntVec = (sixthTransformation*(fifthTransformation*(fourthTransformation*(thirdTransformation*messageIntVec2)))) % 26\n",
    "print(encodedIntVec)"
   ]
  },
  {
   "cell_type": "markdown",
   "metadata": {
    "deletable": true,
    "editable": true
   },
   "source": [
    "The string form of our encoded message is now:\n",
    "\n",
    "```\n",
    "10 -> k\n",
    "13 -> n\n",
    "16 -> q\n",
    "19 -> t\n",
    "19 -> t\n",
    "12 -> m\n",
    "```\n",
    "\n",
    "or 'knqttm'."
   ]
  },
  {
   "cell_type": "markdown",
   "metadata": {
    "deletable": true,
    "editable": true
   },
   "source": [
    "[Back to top](#Hill-Cypher-Encryption)"
   ]
  },
  {
   "cell_type": "markdown",
   "metadata": {
    "deletable": true,
    "editable": true
   },
   "source": [
    "## 4 Encoding all letters simultaneously\n",
    "---\n",
    "Another way we can go about the transformation above in one fell swoop is to take all the transformations that went into encoding our integer vector representation and multiply them all together first, in the following order (note that the '@' symbol is a special signifier for numpy to perform traditional (mathematical) matrix multiplication):"
   ]
  },
  {
   "cell_type": "code",
   "execution_count": 10,
   "metadata": {
    "collapsed": false,
    "deletable": true,
    "editable": true
   },
   "outputs": [
    {
     "name": "stdout",
     "output_type": "stream",
     "text": [
      "[[ 19.  24.   6.  12.  20.  14.]\n",
      " [ 14.   7.   0.  22.   8.  22.]\n",
      " [ 22.  10.  25.  14.  12.   0.]\n",
      " [  0.  22.  10.  25.  14.  12.]\n",
      " [ 12.  12.  20.  20.   3.  12.]\n",
      " [ 12.  24.  10.   4.  24.   1.]]\n"
     ]
    }
   ],
   "source": [
    "compositeTransformation = sixthTransformation @ \\\n",
    "                            fifthTransformation @ \\\n",
    "                            fourthTransformation @ \\\n",
    "                            thirdTransformation @ \\\n",
    "                            secondTransformation @ \\\n",
    "                            firstTransformation % 26\n",
    "                    \n",
    "print(compositeTransformation)"
   ]
  },
  {
   "cell_type": "markdown",
   "metadata": {
    "deletable": true,
    "editable": true
   },
   "source": [
    "We can now use this composite transformation to encode our string in *one* multiplication, with the same 'knqttm' result as above (where we transformed each letter separately):"
   ]
  },
  {
   "cell_type": "code",
   "execution_count": 11,
   "metadata": {
    "collapsed": false,
    "deletable": true,
    "editable": true
   },
   "outputs": [
    {
     "name": "stdout",
     "output_type": "stream",
     "text": [
      "[[ 10.]\n",
      " [ 13.]\n",
      " [ 16.]\n",
      " [ 19.]\n",
      " [ 19.]\n",
      " [ 12.]]\n"
     ]
    }
   ],
   "source": [
    "print(compositeTransformation*messageIntVec0 % 26)"
   ]
  },
  {
   "cell_type": "markdown",
   "metadata": {
    "deletable": true,
    "editable": true
   },
   "source": [
    "[Back to top](#Hill-Cypher-Encryption)"
   ]
  },
  {
   "cell_type": "markdown",
   "metadata": {
    "deletable": true,
    "editable": true
   },
   "source": [
    "## 5 Decoding one letter\n",
    "---\n",
    "Let's take a look at the *final* (sixth) transformation that transforms our very first character."
   ]
  },
  {
   "cell_type": "code",
   "execution_count": 12,
   "metadata": {
    "collapsed": false,
    "deletable": true,
    "editable": true
   },
   "outputs": [
    {
     "name": "stdout",
     "output_type": "stream",
     "text": [
      "[[  1.  12.  24.  10.   4.  24.]\n",
      " [  0.   1.   0.   0.   0.   0.]\n",
      " [  0.   0.   1.   0.   0.   0.]\n",
      " [  0.   0.   0.   1.   0.   0.]\n",
      " [  0.   0.   0.   0.   1.   0.]\n",
      " [  0.   0.   0.   0.   0.   1.]]\n"
     ]
    }
   ],
   "source": [
    "print(sixthTransformation)"
   ]
  },
  {
   "cell_type": "markdown",
   "metadata": {
    "deletable": true,
    "editable": true
   },
   "source": [
    "After the fifth transformation is complete, this sixth-and-final transformation expresses the first integer as itself, plus twelve times the second integer, plus 24 times the third, etc. All we'd have to do in order to *reverse* this process is to take the first entry, **subtract** 12 times the second integer, **subtract** 24 times the third integer, and so on. In matrix form, we'll visualize this *inverse* transformation as `sixthInverse`:"
   ]
  },
  {
   "cell_type": "code",
   "execution_count": 13,
   "metadata": {
    "collapsed": false,
    "deletable": true,
    "editable": true
   },
   "outputs": [
    {
     "name": "stdout",
     "output_type": "stream",
     "text": [
      "[[  1. -12. -24. -10.  -4. -24.]\n",
      " [  0.   1.   0.   0.   0.   0.]\n",
      " [  0.   0.   1.   0.   0.   0.]\n",
      " [  0.   0.   0.   1.   0.   0.]\n",
      " [  0.   0.   0.   0.   1.   0.]\n",
      " [  0.   0.   0.   0.   0.   1.]]\n"
     ]
    }
   ],
   "source": [
    "sixthInverse = -sixthTransformation + 2*np.identity(6)\n",
    "print(sixthInverse)"
   ]
  },
  {
   "cell_type": "markdown",
   "metadata": {
    "deletable": true,
    "editable": true
   },
   "source": [
    "Note how similar this is to the structure of the `sixthTransformation` transformation that *encodes* the first integer. Also, note what results when we multiply the `sixthInverse` and the `sixthTransformation`:"
   ]
  },
  {
   "cell_type": "code",
   "execution_count": 14,
   "metadata": {
    "collapsed": false,
    "deletable": true,
    "editable": true
   },
   "outputs": [
    {
     "name": "stdout",
     "output_type": "stream",
     "text": [
      "[[ 1.  0.  0.  0.  0.  0.]\n",
      " [ 0.  1.  0.  0.  0.  0.]\n",
      " [ 0.  0.  1.  0.  0.  0.]\n",
      " [ 0.  0.  0.  1.  0.  0.]\n",
      " [ 0.  0.  0.  0.  1.  0.]\n",
      " [ 0.  0.  0.  0.  0.  1.]]\n"
     ]
    }
   ],
   "source": [
    "print(sixthInverse @ sixthTransformation)"
   ]
  },
  {
   "cell_type": "markdown",
   "metadata": {
    "deletable": true,
    "editable": true
   },
   "source": [
    "This is the 6-by-6 identity matrix! As we expected (by construction) above, the inverse has 'undone' what the corresponding transformation did to our vector. Here's another way of looking at it - let's multiply the `sixthInverse` into the final `encodedIntVec`:"
   ]
  },
  {
   "cell_type": "code",
   "execution_count": 15,
   "metadata": {
    "collapsed": false,
    "deletable": true,
    "editable": true
   },
   "outputs": [
    {
     "name": "stdout",
     "output_type": "stream",
     "text": [
      "[[  8.]\n",
      " [ 13.]\n",
      " [ 16.]\n",
      " [ 19.]\n",
      " [ 19.]\n",
      " [ 12.]]\n"
     ]
    }
   ],
   "source": [
    "print(sixthInverse * encodedIntVec % 26)"
   ]
  },
  {
   "cell_type": "markdown",
   "metadata": {
    "deletable": true,
    "editable": true
   },
   "source": [
    "We've successfully recovered the first letter of our original string 'ibotta' (remembering `8 -> i`)!"
   ]
  },
  {
   "cell_type": "markdown",
   "metadata": {
    "deletable": true,
    "editable": true
   },
   "source": [
    "[Back to top](#Hill-Cypher-Encryption)"
   ]
  },
  {
   "cell_type": "markdown",
   "metadata": {
    "deletable": true,
    "editable": true
   },
   "source": [
    "## 6 Decoding all the letters\n",
    "---\n",
    "After following along up until now, it might be apparent what we have to do - starting from the encoded integer vector - to get all the way back to our initial 'ibotta' string integer representation. We've got to create transformations that invert the fifth, fourth, third, etc. transformations and 'hit' the encoded vector with those inverses in the correct order."
   ]
  },
  {
   "cell_type": "code",
   "execution_count": 16,
   "metadata": {
    "collapsed": false,
    "deletable": true,
    "editable": true
   },
   "outputs": [
    {
     "name": "stdout",
     "output_type": "stream",
     "text": [
      "[[  8.]\n",
      " [  1.]\n",
      " [ 14.]\n",
      " [ 19.]\n",
      " [ 19.]\n",
      " [  0.]]\n"
     ]
    }
   ],
   "source": [
    "fifthInverse  = -fifthTransformation + 2*np.identity(6)\n",
    "fourthInverse = -fourthTransformation + 2*np.identity(6)\n",
    "thirdInverse  = -thirdTransformation + 2*np.identity(6)\n",
    "secondInverse = -secondTransformation + 2*np.identity(6)\n",
    "firstInverse  = -firstTransformation + 2*np.identity(6)\n",
    "\n",
    "recoveredIntVec = firstInverse @ \\\n",
    "                    secondInverse @ \\\n",
    "                    thirdInverse @ \\\n",
    "                    fourthInverse @ \\\n",
    "                    fifthInverse @ \\\n",
    "                    sixthInverse @ encodedIntVec % 26\n",
    "                    \n",
    "print(recoveredIntVec)"
   ]
  },
  {
   "cell_type": "markdown",
   "metadata": {
    "deletable": true,
    "editable": true
   },
   "source": [
    "And there we go!\n",
    "\n",
    "```\n",
    " 8 -> i\n",
    " 1 -> b\n",
    "14 -> o\n",
    "19 -> t\n",
    "19 -> t\n",
    " 0 -> a\n",
    "```\n",
    "\n",
    "As with the *forward* (encoding) transformation, we can also 'composite' all the inverse operations together into a *single* inverse matrix that reverses our encoding:"
   ]
  },
  {
   "cell_type": "code",
   "execution_count": 17,
   "metadata": {
    "collapsed": false,
    "deletable": true,
    "editable": true
   },
   "outputs": [
    {
     "name": "stdout",
     "output_type": "stream",
     "text": [
      "[[  1.  14.   2.  16.  22.   2.]\n",
      " [  2.   3.  18.   8.   8.   0.]\n",
      " [  0.   2.   3.  18.   8.   8.]\n",
      " [  8.   8.  18.   1.  12.  24.]\n",
      " [ 24.   6.   4.  12.   9.   8.]\n",
      " [  8.   6.  22.   2.   6.  25.]]\n"
     ]
    }
   ],
   "source": [
    "compositeInverse = firstInverse @ secondInverse @ thirdInverse @ fourthInverse @ fifthInverse @ sixthInverse % 26\n",
    "print(compositeInverse)"
   ]
  },
  {
   "cell_type": "code",
   "execution_count": 18,
   "metadata": {
    "collapsed": false,
    "deletable": true,
    "editable": true
   },
   "outputs": [
    {
     "name": "stdout",
     "output_type": "stream",
     "text": [
      "[[  8.]\n",
      " [  1.]\n",
      " [ 14.]\n",
      " [ 19.]\n",
      " [ 19.]\n",
      " [  0.]]\n"
     ]
    }
   ],
   "source": [
    "print(compositeInverse * encodedIntVec % 26)"
   ]
  },
  {
   "cell_type": "markdown",
   "metadata": {
    "deletable": true,
    "editable": true
   },
   "source": [
    "As a final note, look at what happens when we multiply the `compositeInverse` and `compositeTransformation` together...they completely negate each others' effect (producing the 6-by-6 identity matrix, at least when we're still talking about the integer-mod-26 field):"
   ]
  },
  {
   "cell_type": "code",
   "execution_count": 19,
   "metadata": {
    "collapsed": false,
    "deletable": true,
    "editable": true
   },
   "outputs": [
    {
     "name": "stdout",
     "output_type": "stream",
     "text": [
      "[[ 1.  0.  0.  0.  0.  0.]\n",
      " [ 0.  1.  0.  0.  0.  0.]\n",
      " [ 0.  0.  1.  0.  0.  0.]\n",
      " [ 0.  0.  0.  1.  0.  0.]\n",
      " [ 0.  0.  0.  0.  1.  0.]\n",
      " [ 0.  0.  0.  0.  0.  1.]]\n"
     ]
    }
   ],
   "source": [
    "print(compositeInverse @ compositeTransformation % 26)"
   ]
  },
  {
   "cell_type": "markdown",
   "metadata": {
    "deletable": true,
    "editable": true
   },
   "source": [
    "[Back to top](#Hill-Cypher-Encryption)"
   ]
  },
  {
   "cell_type": "code",
   "execution_count": null,
   "metadata": {
    "collapsed": true,
    "deletable": true,
    "editable": true
   },
   "outputs": [],
   "source": []
  }
 ],
 "metadata": {
  "kernelspec": {
   "display_name": "Python 3",
   "language": "python",
   "name": "python3"
  },
  "language_info": {
   "codemirror_mode": {
    "name": "ipython",
    "version": 3
   },
   "file_extension": ".py",
   "mimetype": "text/x-python",
   "name": "python",
   "nbconvert_exporter": "python",
   "pygments_lexer": "ipython3",
   "version": "3.5.2"
  }
 },
 "nbformat": 4,
 "nbformat_minor": 2
}
