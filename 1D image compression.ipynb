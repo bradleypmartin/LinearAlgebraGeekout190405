{
 "cells": [
  {
   "cell_type": "code",
   "execution_count": 22,
   "metadata": {
    "collapsed": true,
    "deletable": true,
    "editable": true
   },
   "outputs": [],
   "source": [
    "# trying out 1D image compression stuff\n",
    "\n",
    "from scipy.fftpack import dct, idct\n",
    "import numpy as np"
   ]
  },
  {
   "cell_type": "code",
   "execution_count": 23,
   "metadata": {
    "collapsed": false,
    "deletable": true,
    "editable": true
   },
   "outputs": [],
   "source": [
    "array1 = np.array([4., 3., 5., 10., 5., 3.])"
   ]
  },
  {
   "cell_type": "code",
   "execution_count": 24,
   "metadata": {
    "collapsed": false,
    "deletable": true,
    "editable": true
   },
   "outputs": [
    {
     "name": "stdout",
     "output_type": "stream",
     "text": [
      "[12.24744871 -1.00596527 -4.          3.26598632  1.73205081 -1.82246185]\n"
     ]
    }
   ],
   "source": [
    "dct1 = dct(array1, norm='ortho')\n",
    "print(dct1)"
   ]
  },
  {
   "cell_type": "code",
   "execution_count": 25,
   "metadata": {
    "collapsed": false,
    "deletable": true,
    "editable": true
   },
   "outputs": [],
   "source": [
    "array1recov = idct(dct1, norm='ortho')"
   ]
  },
  {
   "cell_type": "code",
   "execution_count": 26,
   "metadata": {
    "collapsed": false,
    "deletable": true,
    "editable": true
   },
   "outputs": [
    {
     "name": "stdout",
     "output_type": "stream",
     "text": [
      "[ 4.  3.  5. 10.  5.  3.]\n"
     ]
    }
   ],
   "source": [
    "print(array1recov)"
   ]
  },
  {
   "cell_type": "code",
   "execution_count": null,
   "metadata": {
    "collapsed": false,
    "deletable": true,
    "editable": true
   },
   "outputs": [],
   "source": []
  },
  {
   "cell_type": "code",
   "execution_count": 126,
   "metadata": {
    "collapsed": false
   },
   "outputs": [
    {
     "data": {
      "image/png": "[encoded data removed]",
      "text/plain": [
       "<matplotlib.figure.Figure at 0x1528034e080>"
      ]
     },
     "metadata": {},
     "output_type": "display_data"
    }
   ],
   "source": [
    "\n",
    "x = np.arange(0, 1, 0.01)\n",
    "y = np.zeros(x.shape[0])\n",
    "\n",
    "# start of tail\n",
    "y[10] = 0.002; y[11] = 0.005; y[12] = 0.013; y[13] = 0.021; y[14] = 0.027; y[15] = 0.031; y[16] = 0.033; y[17] = 0.033; y[18] = 0.033; y[19] = 0.032;\n",
    "y[20] = 0.030; y[21] = 0.030; y[22] = 0.029; y[23] = 0.029; y[24] = 0.029; y[25:31] = 0.028;\n",
    "y[31:33] = 0.029; y[33] = 0.030; y[34] = 0.032; y[35] = 0.035; y[36] = 0.040; y[37] = 0.047; y[38] = 0.056; y[39] = 0.067;\n",
    "\n",
    "\n",
    "plt.figure(figsize=(10,5))\n",
    "plt.rcParams['font.size'] = 20\n",
    "\n",
    "lines = plt.plot(x, y, 'o')\n",
    "\n",
    "plt.setp(lines[0], markersize=5, color='k')\n",
    "\n",
    "#plt.legend(('$y = -x^2 + 2x + 1$', '$y = x^2/2 + 2x + 1$'),\n",
    "#           loc='upper right', bbox_to_anchor=(1.6, 0.95), fancybox=True, shadow=True)\n",
    "\n",
    "plt.xlim(0,1)\n",
    "plt.ylim(0,0.5)\n",
    "plt.xlabel('$x$')\n",
    "plt.ylabel('$y$')\n",
    "plt.title('Cat function')\n",
    "plt.show()"
   ]
  },
  {
   "cell_type": "code",
   "execution_count": null,
   "metadata": {
    "collapsed": true
   },
   "outputs": [],
   "source": []
  },
  {
   "cell_type": "code",
   "execution_count": null,
   "metadata": {
    "collapsed": true
   },
   "outputs": [],
   "source": []
  },
  {
   "cell_type": "code",
   "execution_count": null,
   "metadata": {
    "collapsed": true
   },
   "outputs": [],
   "source": []
  },
  {
   "cell_type": "code",
   "execution_count": null,
   "metadata": {
    "collapsed": true
   },
   "outputs": [],
   "source": []
  },
  {
   "cell_type": "code",
   "execution_count": null,
   "metadata": {
    "collapsed": true
   },
   "outputs": [],
   "source": []
  },
  {
   "cell_type": "code",
   "execution_count": null,
   "metadata": {
    "collapsed": true
   },
   "outputs": [],
   "source": []
  },
  {
   "cell_type": "code",
   "execution_count": null,
   "metadata": {
    "collapsed": true
   },
   "outputs": [],
   "source": []
  },
  {
   "cell_type": "code",
   "execution_count": null,
   "metadata": {
    "collapsed": true
   },
   "outputs": [],
   "source": []
  }
 ],
 "metadata": {
  "kernelspec": {
   "display_name": "Python 3",
   "language": "python",
   "name": "python3"
  },
  "language_info": {
   "codemirror_mode": {
    "name": "ipython",
    "version": 3
   },
   "file_extension": ".py",
   "mimetype": "text/x-python",
   "name": "python",
   "nbconvert_exporter": "python",
   "pygments_lexer": "ipython3",
   "version": "3.5.2"
  }
 },
 "nbformat": 4,
 "nbformat_minor": 2
}
